{
  "nbformat": 4,
  "nbformat_minor": 0,
  "metadata": {
    "colab": {
      "provenance": []
    },
    "kernelspec": {
      "name": "python3",
      "display_name": "Python 3"
    },
    "language_info": {
      "name": "python"
    }
  },
  "cells": [
    {
      "cell_type": "code",
      "source": [
        "# Crear lista con los valores de la variable independiente (Attendance)\n",
        "calificaciones = [80,65,95,95,85,75,90,65,55,43,98,95,90,87,25,37,28,39,65,25,91,56,43,77,87,12,80,75]\n",
        "\n",
        "# Crear lista con los valores de la variable dependiente (Pass: no = 0, yes = 1)\n",
        "Pass = [i > 70 for i in calificaciones]\n",
        "# Crear lista con los hiper-parámetros iniciales (thetas)\n",
        "thetas = [-5,0.1]\n",
        "\n",
        "# Cargar el valor del learning rate (alpha)\n",
        "alpha = 0.0015"
      ],
      "metadata": {
        "id": "LTZXbaBREZ1i"
      },
      "execution_count": 154,
      "outputs": []
    },
    {
      "cell_type": "code",
      "source": [
        "# Importar módulo math\n",
        "import math\n",
        "# Crear función lambda para la función de hipótesis\n",
        "h = lambda x : 1/(1+math.exp((-thetas[0]+(-thetas[1]*x))))\n",
        "# Calcular el total de muestras a partir de los datos (n)\n",
        "n = len(calificaciones)"
      ],
      "metadata": {
        "id": "Eus7l9R5FEWh"
      },
      "execution_count": 155,
      "outputs": []
    },
    {
      "cell_type": "markdown",
      "source": [
        "## Iteraciones\n",
        "En cada iteración debemos calcular el valor de la derivada de la función de costo, que se obtiene a partir de los datos estimados, $h_\\theta(x_i)$, y reales, $y_i$ (recuerde que los estimados se obtienen con la función de hipótesis de la regresión logística):\n",
        "\n",
        "$\\frac{∂J_{θ}}{∂θ_0} = \\frac{1}{n}\\sum_{i=1}^{n}(h_θ(x_i)-y_i)$\n",
        "\n",
        "$\\frac{∂J_{θ}}{∂θ_1} = \\frac{1}{n}\\sum_{i=1}^{n}(h_θ(x_i)-y_i)x_i$\n",
        "\n",
        "Además, debemos actualizar los valores de los hiper-parámetros, recordando que $\\theta_j=\\theta_j-\\alpha \\frac{∂J_{θ}}{∂θ_j}$:"
      ],
      "metadata": {
        "id": "zPEuQ5VwD1LS"
      }
    },
    {
      "cell_type": "code",
      "execution_count": 156,
      "metadata": {
        "id": "yHcybZTvDFIc"
      },
      "outputs": [],
      "source": [
        "# Seleccionar la muestra a utilizar (Attendance o Homework)\n",
        "# Implementar ciclo para iteraciones\n",
        "  # Crear acumuladores\n",
        "  # Barrer muestras\n",
        "    # Calcular delta para theta0 y para cada muestra\n",
        "    # Calcular delta para theta1 y para cada muestra\n",
        "for i in range(1000):\n",
        "  # Repetir procedimiento de la iteración pasada\n",
        "  # Calcular delta para theta0 y para cada muestra\n",
        "  delta_t0 = []\n",
        "  # Calcular delta para theta1 y para cada muestra\n",
        "  delta_t1 = []\n",
        "  hs = []\n",
        "  for x,y in zip(calificaciones,Pass):\n",
        "    delta0 = h(x) - y\n",
        "    delta1 = (h(x) - y)*x\n",
        "    delta_t0.append(delta0)\n",
        "    delta_t1.append(delta1)\n",
        "    hs.append(h(x))\n",
        "\n",
        "  # Calcular sumatorias y promedio\n",
        "  der_t0 = sum(delta_t0)/n\n",
        "  der_t1 = sum(delta_t1)/n\n",
        "\n",
        "  # Actualizar theta0\n",
        "  thetas[0] = thetas[0] - alpha*(der_t0)\n",
        "  # Actualizar theta1\n",
        "  thetas[1] = thetas[1] - alpha*(der_t1)\n",
        "\n",
        "  # Calcular sumatorias y promedio\n",
        "\n",
        "\n",
        "  # Actualizar theta0\n",
        "  # Actualizar theta1\n",
        "\n",
        "# Imprimir theta actualizado\n",
        "# Preservar hiper-parámetros del modelo"
      ]
    },
    {
      "cell_type": "markdown",
      "source": [
        "## Evaluación\n",
        "Antes de poder evaluar nuestro modelo, necesitamos agrupar las predicciones de cada uno, para poder compararlas:"
      ],
      "metadata": {
        "id": "m9qKJK-EN75A"
      }
    },
    {
      "cell_type": "code",
      "source": [
        "import numpy as np\n",
        "import matplotlib.pyplot as plt\n",
        "\n",
        "predicted_classes = hs = [round(i) for i in hs]\n",
        "\n",
        "\n",
        "true_positive = np.sum((np.array(Pass) == 1) & (np.array(predicted_classes) == 1))\n",
        "false_positive = np.sum((np.array(Pass) == 0) & (np.array(predicted_classes) == 1))\n",
        "false_negative = np.sum((np.array(Pass) == 1) & (np.array(predicted_classes) == 0))\n",
        "true_negative = np.sum((np.array(Pass) == 0) & (np.array(predicted_classes) == 0))\n",
        "\n",
        "accuracy = np.mean(np.array(Pass) == np.array(predicted_classes))\n",
        "print(f\"Accuracy: {accuracy:.2f}\")\n",
        "precision = true_positive / (true_positive + false_positive)\n",
        "recall = true_positive / (true_positive + false_negative)\n",
        "f1_score = 2 * (precision * recall) / (precision + recall)\n",
        "\n",
        "print(f\"Precision: {precision:.4f}\")\n",
        "print(f\"Recall: {recall:.4f}\")\n",
        "print(f\"F1-Score: {f1_score:.4f}\")\n",
        "\n",
        "confusion_matrix = np.array([[true_positive, false_positive], [false_negative, true_negative]])\n",
        "plt.imshow(confusion_matrix, interpolation='nearest', cmap=plt.cm.Blues)\n",
        "plt.title(\"Confusion Matrix\")\n",
        "plt.colorbar()\n",
        "tick_marks = np.arange(2)\n",
        "\n",
        "plt.text(0, 0, str(confusion_matrix[0, 0]), ha='center', va='center', color='white')\n",
        "plt.text(1, 1, str(confusion_matrix[1, 1]), ha='center', va='center', color='white')\n",
        "plt.text(1, 0, str(confusion_matrix[0, 1]), ha='center', va='center', color='black')\n",
        "plt.text(0, 1, str(confusion_matrix[1, 0]), ha='center', va='center', color='black')\n",
        "\n",
        "plt.xticks(tick_marks, ['Class 1', 'Class 0'])\n",
        "plt.yticks(tick_marks, ['Class 1', 'Class 0'])\n",
        "plt.xlabel('Predicted')\n",
        "plt.ylabel('True')\n",
        "plt.show()\n"
      ],
      "metadata": {
        "id": "gzJs3-OvYP4N",
        "colab": {
          "base_uri": "https://localhost:8080/",
          "height": 543
        },
        "outputId": "6d6f75e8-fafd-4724-d3e6-39b6ff185d46"
      },
      "execution_count": 157,
      "outputs": [
        {
          "output_type": "stream",
          "name": "stdout",
          "text": [
            "Accuracy: 0.89\n",
            "Precision: 0.8333\n",
            "Recall: 1.0000\n",
            "F1-Score: 0.9091\n"
          ]
        },
        {
          "output_type": "display_data",
          "data": {
            "text/plain": [
              "<Figure size 640x480 with 2 Axes>"
            ],
            "image/png": "[encoded data removed]"
          },
          "metadata": {}
        }
      ]
    },
    {
      "cell_type": "markdown",
      "source": [
        "Para estimar qué tan bueno es cada clasificador, debemos generar las matrices de confusión y las correspondientes métricas:\n",
        "\n",
        "$accuracy = \\frac{VP+VN}{VP+VN+FP+FN}$\n",
        "\n",
        "$precision = \\frac{VP}{VP+FP}$\n",
        "\n",
        "$recall = \\frac{VP}{VP+FN}$\n",
        "\n",
        "$F1 = \\frac{2\\cdot precision \\cdot recall}{precision+recall}$"
      ],
      "metadata": {
        "id": "IMmfd_eBVULl"
      }
    }
  ]
}